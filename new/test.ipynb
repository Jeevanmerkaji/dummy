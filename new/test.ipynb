{
 "cells": [
  {
   "cell_type": "code",
   "execution_count": null,
   "id": "a58cc20b",
   "metadata": {},
   "outputs": [
    {
     "name": "stdout",
     "output_type": "stream",
     "text": [
      "✅ Unique CORINE Land Cover Codes in this raster:\n",
      "[-128    1    2    3    4    5    6    7    8    9   10   11   12   13\n",
      "   14   15   16   17   18   19   20   21   22   23   24   25   26   27\n",
      "   28   29   30   31   32   33   34   35   36   37   38   39   40   41\n",
      "   42   43   44   48]\n"
     ]
    }
   ],
   "source": [
    "import rasterio\n",
    "import numpy as np\n",
    "import matplotlib.pyplot as plt\n",
    "\n",
    "# Load the CORINE GeoTIFF\n",
    "input_raster_path = r\"\"\n",
    "\n",
    "with rasterio.open(input_raster_path) as src:\n",
    "    landcover = src.read(1)  # Read first band\n",
    "\n",
    "# Get unique class values\n",
    "unique_classes = np.unique(landcover)\n",
    "print(\"✅ Unique CORINE Land Cover Codes in this raster:\")\n",
    "print(unique_classes)\n",
    "\n",
    "# Plot the raster\n",
    "# plt.figure(figsize=(10, 8))\n",
    "# cmap = plt.cm.get_cmap('tab20', len(unique_classes))  # Discrete colormap\n",
    "# im = plt.imshow(landcover, cmap=cmap, interpolation='nearest')\n",
    "# plt.colorbar(im, ticks=unique_classes, label='CORINE Codes')\n",
    "# plt.title(\"CORINE Land Cover Map\")\n",
    "# plt.xlabel(\"Column\")\n",
    "# plt.ylabel(\"Row\")\n",
    "# plt.show()"
   ]
  },
  {
   "cell_type": "code",
   "execution_count": 5,
   "id": "f4a7dba2",
   "metadata": {},
   "outputs": [
    {
     "name": "stdout",
     "output_type": "stream",
     "text": [
      "Unique CORINE codes: [-128    1    2    3    4    5    6    7    8    9   10   11   12   13\n",
      "   14   15   16   17   18   19   20   21   22   23   24   25   26   27\n",
      "   28   29   30   31   32   33   34   35   36   37   38   39   40   41\n",
      "   42   43   44   48]\n"
     ]
    }
   ],
   "source": [
    "unique_classes = np.unique(landcover)\n",
    "print(\"Unique CORINE codes:\", unique_classes)\n",
    "\n",
    "\n",
    "corine_classes = {\n",
    "    111: 'Continuous urban fabric',\n",
    "    112: 'Discontinuous urban fabric',\n",
    "    121: 'Industrial or commercial units',\n",
    "    211: 'Non-irrigated arable land',\n",
    "    311: 'Broad-leaved forest',\n",
    "    412: 'Peat bogs',\n",
    "    523: 'Sea and ocean',\n",
    "    # Add more from official CLC legend\n",
    "}\n"
   ]
  },
  {
   "cell_type": "code",
   "execution_count": null,
   "id": "02d9690e",
   "metadata": {},
   "outputs": [
    {
     "ename": "AttributeError",
     "evalue": "module 'PIL.Image' has no attribute 'ANTIALIAS'",
     "output_type": "error",
     "traceback": [
      "\u001b[1;31m---------------------------------------------------------------------------\u001b[0m",
      "\u001b[1;31mAttributeError\u001b[0m                            Traceback (most recent call last)",
      "Cell \u001b[1;32mIn[18], line 13\u001b[0m\n\u001b[0;32m     10\u001b[0m infrastructure_img \u001b[38;5;241m=\u001b[39m Image\u001b[38;5;241m.\u001b[39mopen(infrastructure_path)\u001b[38;5;241m.\u001b[39mconvert(\u001b[38;5;124m\"\u001b[39m\u001b[38;5;124mRGBA\u001b[39m\u001b[38;5;124m\"\u001b[39m)\n\u001b[0;32m     12\u001b[0m \u001b[38;5;66;03m# Resize infrastructure image to match the landcover image size\u001b[39;00m\n\u001b[1;32m---> 13\u001b[0m infrastructure_img \u001b[38;5;241m=\u001b[39m infrastructure_img\u001b[38;5;241m.\u001b[39mresize(landcover_img\u001b[38;5;241m.\u001b[39msize, \u001b[43mImage\u001b[49m\u001b[38;5;241;43m.\u001b[39;49m\u001b[43mANTIALIAS\u001b[49m)\n\u001b[0;32m     15\u001b[0m \u001b[38;5;66;03m# Overlay the images\u001b[39;00m\n\u001b[0;32m     16\u001b[0m merged_img \u001b[38;5;241m=\u001b[39m Image\u001b[38;5;241m.\u001b[39malpha_composite(landcover_img, infrastructure_img)\n",
      "\u001b[1;31mAttributeError\u001b[0m: module 'PIL.Image' has no attribute 'ANTIALIAS'"
     ]
    }
   ],
   "source": [
    "from PIL import Image\n",
    "import numpy as np\n",
    "import rasterio\n",
    "from rasterio.transform import from_bounds\n",
    "from rasterio.crs import CRS\n",
    "\n",
    "\n",
    "# Load the merged image\n",
    "image_path = \"/mnt/data/czech_merged_overlay.png\"\n",
    "image = Image.open(image_path).convert(\"RGB\")\n",
    "image_array = np.array(image)\n",
    "\n",
    "# Define geographic bounds of the Czech Republic (approximate)\n",
    "west, south, east, north = 12.090, 48.551, 18.859, 51.055\n",
    "height, width, _ = image_array.shape\n",
    "\n",
    "# Define transform and CRS\n",
    "transform = from_bounds(west, south, east, north, width, height)\n",
    "crs = CRS.from_epsg(4326)  # WGS84\n",
    "\n",
    "# Output path\n",
    "geotiff_path = \"/mnt/data/czech_merged_overlay_georeferenced.tif\"\n",
    "\n",
    "# Save as GeoTIFF\n",
    "with rasterio.open(\n",
    "    geotiff_path,\n",
    "    \"w\",\n",
    "    driver=\"GTiff\",\n",
    "    height=height,\n",
    "    width=width,\n",
    "    count=3,  # RGB\n",
    "    dtype=image_array.dtype,\n",
    "    crs=crs,\n",
    "    transform=transform,\n",
    ") as dst:\n",
    "    for i in range(3):\n",
    "        dst.write(image_array[:, :, i], i + 1)\n",
    "\n",
    "geotiff_path\n"
   ]
  },
  {
   "cell_type": "code",
   "execution_count": 25,
   "id": "857e6353",
   "metadata": {},
   "outputs": [
    {
     "name": "stdout",
     "output_type": "stream",
     "text": [
      "KeysView(Frozen({'number': <xarray.Variable ()> Size: 8B\n",
      "[1 values with dtype=int64]\n",
      "Attributes:\n",
      "    long_name:      ensemble member numerical id\n",
      "    units:          1\n",
      "    standard_name:  realization, 'valid_time': <xarray.IndexVariable 'valid_time' (valid_time: 1)> Size: 8B\n",
      "array(['2025-01-28T20:00:00.000000000'], dtype='datetime64[ns]')\n",
      "Attributes:\n",
      "    long_name:      time\n",
      "    standard_name:  time, 'latitude': <xarray.IndexVariable 'latitude' (latitude: 1801)> Size: 14kB\n",
      "array([ 90. ,  89.9,  89.8, ..., -89.8, -89.9, -90. ])\n",
      "Attributes:\n",
      "    units:             degrees_north\n",
      "    standard_name:     latitude\n",
      "    long_name:         latitude\n",
      "    stored_direction:  decreasing, 'longitude': <xarray.IndexVariable 'longitude' (longitude: 3600)> Size: 29kB\n",
      "array([0.000e+00, 1.000e-01, 2.000e-01, ..., 3.597e+02, 3.598e+02, 3.599e+02])\n",
      "Attributes:\n",
      "    units:          degrees_east\n",
      "    standard_name:  longitude\n",
      "    long_name:      longitude, 'expver': <xarray.Variable ()> Size: 16B\n",
      "[1 values with dtype=<U4], 'stl3': <xarray.Variable (valid_time: 1, latitude: 1801, longitude: 3600)> Size: 26MB\n",
      "[6483600 values with dtype=float32]\n",
      "Attributes: (12/32)\n",
      "    GRIB_paramId:                             183\n",
      "    GRIB_dataType:                            an\n",
      "    GRIB_numberOfPoints:                      6483600\n",
      "    GRIB_typeOfLevel:                         depthBelowLandLayer\n",
      "    GRIB_stepUnits:                           1\n",
      "    GRIB_stepType:                            instant\n",
      "    ...                                       ...\n",
      "    GRIB_totalNumber:                         0\n",
      "    GRIB_units:                               K\n",
      "    long_name:                                Soil temperature level 3\n",
      "    units:                                    K\n",
      "    standard_name:                            unknown\n",
      "    GRIB_depthBelowLandLayer:                 28.0, 'swvl1': <xarray.Variable (valid_time: 1, latitude: 1801, longitude: 3600)> Size: 26MB\n",
      "[6483600 values with dtype=float32]\n",
      "Attributes: (12/32)\n",
      "    GRIB_paramId:                             39\n",
      "    GRIB_dataType:                            an\n",
      "    GRIB_numberOfPoints:                      6483600\n",
      "    GRIB_typeOfLevel:                         depthBelowLandLayer\n",
      "    GRIB_stepUnits:                           1\n",
      "    GRIB_stepType:                            instant\n",
      "    ...                                       ...\n",
      "    GRIB_totalNumber:                         0\n",
      "    GRIB_units:                               m**3 m**-3\n",
      "    long_name:                                Volumetric soil water layer 1\n",
      "    units:                                    m**3 m**-3\n",
      "    standard_name:                            unknown\n",
      "    GRIB_depthBelowLandLayer:                 0.0, 'v10': <xarray.Variable (valid_time: 1, latitude: 1801, longitude: 3600)> Size: 26MB\n",
      "[6483600 values with dtype=float32]\n",
      "Attributes: (12/32)\n",
      "    GRIB_paramId:                             166\n",
      "    GRIB_dataType:                            fc\n",
      "    GRIB_numberOfPoints:                      6483600\n",
      "    GRIB_typeOfLevel:                         surface\n",
      "    GRIB_stepUnits:                           1\n",
      "    GRIB_stepType:                            instant\n",
      "    ...                                       ...\n",
      "    GRIB_totalNumber:                         0\n",
      "    GRIB_units:                               m s**-1\n",
      "    long_name:                                10 metre V wind component\n",
      "    units:                                    m s**-1\n",
      "    standard_name:                            unknown\n",
      "    GRIB_surface:                             0.0, 'lai_lv': <xarray.Variable (valid_time: 1, latitude: 1801, longitude: 3600)> Size: 26MB\n",
      "[6483600 values with dtype=float32]\n",
      "Attributes: (12/32)\n",
      "    GRIB_paramId:                             66\n",
      "    GRIB_dataType:                            fc\n",
      "    GRIB_numberOfPoints:                      6483600\n",
      "    GRIB_typeOfLevel:                         surface\n",
      "    GRIB_stepUnits:                           1\n",
      "    GRIB_stepType:                            instant\n",
      "    ...                                       ...\n",
      "    GRIB_totalNumber:                         0\n",
      "    GRIB_units:                               m**2 m**-2\n",
      "    long_name:                                Leaf area index, low vegetation\n",
      "    units:                                    m**2 m**-2\n",
      "    standard_name:                            unknown\n",
      "    GRIB_surface:                             0.0}))\n",
      "           valid_time  latitude  longitude  number expver  stl3  swvl1  v10  \\\n",
      "0 2025-01-28 20:00:00      90.0        0.0       0   0001   NaN    NaN  NaN   \n",
      "1 2025-01-28 20:00:00      90.0        0.1       0   0001   NaN    NaN  NaN   \n",
      "2 2025-01-28 20:00:00      90.0        0.2       0   0001   NaN    NaN  NaN   \n",
      "3 2025-01-28 20:00:00      90.0        0.3       0   0001   NaN    NaN  NaN   \n",
      "4 2025-01-28 20:00:00      90.0        0.4       0   0001   NaN    NaN  NaN   \n",
      "\n",
      "   lai_lv  \n",
      "0     NaN  \n",
      "1     NaN  \n",
      "2     NaN  \n",
      "3     NaN  \n",
      "4     NaN  \n",
      "Index(['valid_time', 'latitude', 'longitude', 'number', 'expver', 'stl3',\n",
      "       'swvl1', 'v10', 'lai_lv'],\n",
      "      dtype='object')\n"
     ]
    }
   ],
   "source": [
    "import xarray as xr\n",
    "import pandas as pd\n",
    "\n",
    "# Open the NetCDF file\n",
    "ds = xr.open_dataset(r\"C:\\Users\\Jeevan.Somanna\\Downloads\\934169613c93cb069d884a5007857d52.nc\")\n",
    "print(ds.variables.keys())\n",
    "# Convert all variables to a DataFrame\n",
    "df = ds.to_dataframe().reset_index()\n",
    "\n",
    "# Show the first few rows\n",
    "print(df.head())\n",
    "\n",
    "# Check column names\n",
    "print(df.columns)\n"
   ]
  },
  {
   "cell_type": "code",
   "execution_count": 26,
   "id": "846c736d",
   "metadata": {},
   "outputs": [
    {
     "ename": "ValueError",
     "evalue": "Dimensions {'time'} do not exist. Expected one or more of ('valid_time', 'latitude', 'longitude')",
     "output_type": "error",
     "traceback": [
      "\u001b[1;31m---------------------------------------------------------------------------\u001b[0m",
      "\u001b[1;31mValueError\u001b[0m                                Traceback (most recent call last)",
      "Cell \u001b[1;32mIn[26], line 3\u001b[0m\n\u001b[0;32m      1\u001b[0m \u001b[38;5;28;01mimport\u001b[39;00m \u001b[38;5;21;01mmatplotlib\u001b[39;00m\u001b[38;5;21;01m.\u001b[39;00m\u001b[38;5;21;01mpyplot\u001b[39;00m \u001b[38;5;28;01mas\u001b[39;00m \u001b[38;5;21;01mplt\u001b[39;00m\n\u001b[1;32m----> 3\u001b[0m \u001b[43mds\u001b[49m\u001b[43m[\u001b[49m\u001b[38;5;124;43m'\u001b[39;49m\u001b[38;5;124;43mswvl1\u001b[39;49m\u001b[38;5;124;43m'\u001b[39;49m\u001b[43m]\u001b[49m\u001b[38;5;241;43m.\u001b[39;49m\u001b[43misel\u001b[49m\u001b[43m(\u001b[49m\u001b[43mtime\u001b[49m\u001b[38;5;241;43m=\u001b[39;49m\u001b[38;5;241;43m0\u001b[39;49m\u001b[43m)\u001b[49m\u001b[38;5;241m.\u001b[39mplot()\n\u001b[0;32m      4\u001b[0m plt\u001b[38;5;241m.\u001b[39mtitle(\u001b[38;5;124m\"\u001b[39m\u001b[38;5;124mSoil Water Content (Level 1)\u001b[39m\u001b[38;5;124m\"\u001b[39m)\n\u001b[0;32m      5\u001b[0m plt\u001b[38;5;241m.\u001b[39mshow()\n",
      "File \u001b[1;32md:\\Program_files\\Anaconda\\envs\\llamaIndex\\Lib\\site-packages\\xarray\\core\\dataarray.py:1547\u001b[0m, in \u001b[0;36mDataArray.isel\u001b[1;34m(self, indexers, drop, missing_dims, **indexers_kwargs)\u001b[0m\n\u001b[0;32m   1542\u001b[0m     \u001b[38;5;28;01mreturn\u001b[39;00m \u001b[38;5;28mself\u001b[39m\u001b[38;5;241m.\u001b[39m_from_temp_dataset(ds)\n\u001b[0;32m   1544\u001b[0m \u001b[38;5;66;03m# Much faster algorithm for when all indexers are ints, slices, one-dimensional\u001b[39;00m\n\u001b[0;32m   1545\u001b[0m \u001b[38;5;66;03m# lists, or zero or one-dimensional np.ndarray's\u001b[39;00m\n\u001b[1;32m-> 1547\u001b[0m variable \u001b[38;5;241m=\u001b[39m \u001b[38;5;28;43mself\u001b[39;49m\u001b[38;5;241;43m.\u001b[39;49m\u001b[43m_variable\u001b[49m\u001b[38;5;241;43m.\u001b[39;49m\u001b[43misel\u001b[49m\u001b[43m(\u001b[49m\u001b[43mindexers\u001b[49m\u001b[43m,\u001b[49m\u001b[43m \u001b[49m\u001b[43mmissing_dims\u001b[49m\u001b[38;5;241;43m=\u001b[39;49m\u001b[43mmissing_dims\u001b[49m\u001b[43m)\u001b[49m\n\u001b[0;32m   1548\u001b[0m indexes, index_variables \u001b[38;5;241m=\u001b[39m isel_indexes(\u001b[38;5;28mself\u001b[39m\u001b[38;5;241m.\u001b[39mxindexes, indexers)\n\u001b[0;32m   1550\u001b[0m coords \u001b[38;5;241m=\u001b[39m {}\n",
      "File \u001b[1;32md:\\Program_files\\Anaconda\\envs\\llamaIndex\\Lib\\site-packages\\xarray\\core\\variable.py:1028\u001b[0m, in \u001b[0;36mVariable.isel\u001b[1;34m(self, indexers, missing_dims, **indexers_kwargs)\u001b[0m\n\u001b[0;32m   1004\u001b[0m \u001b[38;5;250m\u001b[39m\u001b[38;5;124;03m\"\"\"Return a new array indexed along the specified dimension(s).\u001b[39;00m\n\u001b[0;32m   1005\u001b[0m \n\u001b[0;32m   1006\u001b[0m \u001b[38;5;124;03mParameters\u001b[39;00m\n\u001b[1;32m   (...)\u001b[0m\n\u001b[0;32m   1024\u001b[0m \u001b[38;5;124;03m    indexer, in which case the data will be a copy.\u001b[39;00m\n\u001b[0;32m   1025\u001b[0m \u001b[38;5;124;03m\"\"\"\u001b[39;00m\n\u001b[0;32m   1026\u001b[0m indexers \u001b[38;5;241m=\u001b[39m either_dict_or_kwargs(indexers, indexers_kwargs, \u001b[38;5;124m\"\u001b[39m\u001b[38;5;124misel\u001b[39m\u001b[38;5;124m\"\u001b[39m)\n\u001b[1;32m-> 1028\u001b[0m indexers \u001b[38;5;241m=\u001b[39m \u001b[43mdrop_dims_from_indexers\u001b[49m\u001b[43m(\u001b[49m\u001b[43mindexers\u001b[49m\u001b[43m,\u001b[49m\u001b[43m \u001b[49m\u001b[38;5;28;43mself\u001b[39;49m\u001b[38;5;241;43m.\u001b[39;49m\u001b[43mdims\u001b[49m\u001b[43m,\u001b[49m\u001b[43m \u001b[49m\u001b[43mmissing_dims\u001b[49m\u001b[43m)\u001b[49m\n\u001b[0;32m   1030\u001b[0m key \u001b[38;5;241m=\u001b[39m \u001b[38;5;28mtuple\u001b[39m(indexers\u001b[38;5;241m.\u001b[39mget(dim, \u001b[38;5;28mslice\u001b[39m(\u001b[38;5;28;01mNone\u001b[39;00m)) \u001b[38;5;28;01mfor\u001b[39;00m dim \u001b[38;5;129;01min\u001b[39;00m \u001b[38;5;28mself\u001b[39m\u001b[38;5;241m.\u001b[39mdims)\n\u001b[0;32m   1031\u001b[0m \u001b[38;5;28;01mreturn\u001b[39;00m \u001b[38;5;28mself\u001b[39m[key]\n",
      "File \u001b[1;32md:\\Program_files\\Anaconda\\envs\\llamaIndex\\Lib\\site-packages\\xarray\\core\\utils.py:853\u001b[0m, in \u001b[0;36mdrop_dims_from_indexers\u001b[1;34m(indexers, dims, missing_dims)\u001b[0m\n\u001b[0;32m    851\u001b[0m     invalid \u001b[38;5;241m=\u001b[39m indexers\u001b[38;5;241m.\u001b[39mkeys() \u001b[38;5;241m-\u001b[39m \u001b[38;5;28mset\u001b[39m(dims)\n\u001b[0;32m    852\u001b[0m     \u001b[38;5;28;01mif\u001b[39;00m invalid:\n\u001b[1;32m--> 853\u001b[0m         \u001b[38;5;28;01mraise\u001b[39;00m \u001b[38;5;167;01mValueError\u001b[39;00m(\n\u001b[0;32m    854\u001b[0m             \u001b[38;5;124mf\u001b[39m\u001b[38;5;124m\"\u001b[39m\u001b[38;5;124mDimensions \u001b[39m\u001b[38;5;132;01m{\u001b[39;00minvalid\u001b[38;5;132;01m}\u001b[39;00m\u001b[38;5;124m do not exist. Expected one or more of \u001b[39m\u001b[38;5;132;01m{\u001b[39;00mdims\u001b[38;5;132;01m}\u001b[39;00m\u001b[38;5;124m\"\u001b[39m\n\u001b[0;32m    855\u001b[0m         )\n\u001b[0;32m    857\u001b[0m     \u001b[38;5;28;01mreturn\u001b[39;00m indexers\n\u001b[0;32m    859\u001b[0m \u001b[38;5;28;01melif\u001b[39;00m missing_dims \u001b[38;5;241m==\u001b[39m \u001b[38;5;124m\"\u001b[39m\u001b[38;5;124mwarn\u001b[39m\u001b[38;5;124m\"\u001b[39m:\n\u001b[0;32m    860\u001b[0m     \u001b[38;5;66;03m# don't modify input\u001b[39;00m\n",
      "\u001b[1;31mValueError\u001b[0m: Dimensions {'time'} do not exist. Expected one or more of ('valid_time', 'latitude', 'longitude')"
     ]
    }
   ],
   "source": [
    "import matplotlib.pyplot as plt\n",
    "\n",
    "ds['swvl1'].isel(time=0).plot()\n",
    "plt.title(\"Soil Water Content (Level 1)\")\n",
    "plt.show()"
   ]
  },
  {
   "cell_type": "code",
   "execution_count": 27,
   "id": "69510e0d",
   "metadata": {},
   "outputs": [
    {
     "name": "stdout",
     "output_type": "stream",
     "text": [
      "Requirement already satisfied: xarray in d:\\program_files\\anaconda\\envs\\llamaindex\\lib\\site-packages (2025.4.0)\n",
      "Requirement already satisfied: matplotlib in d:\\program_files\\anaconda\\envs\\llamaindex\\lib\\site-packages (3.10.0)\n",
      "Requirement already satisfied: numpy>=1.24 in d:\\program_files\\anaconda\\envs\\llamaindex\\lib\\site-packages (from xarray) (2.0.0)\n",
      "Requirement already satisfied: packaging>=23.2 in d:\\program_files\\anaconda\\envs\\llamaindex\\lib\\site-packages (from xarray) (24.2)\n",
      "Requirement already satisfied: pandas>=2.1 in d:\\program_files\\anaconda\\envs\\llamaindex\\lib\\site-packages (from xarray) (2.2.3)\n",
      "Requirement already satisfied: contourpy>=1.0.1 in d:\\program_files\\anaconda\\envs\\llamaindex\\lib\\site-packages (from matplotlib) (1.3.1)\n",
      "Requirement already satisfied: cycler>=0.10 in d:\\program_files\\anaconda\\envs\\llamaindex\\lib\\site-packages (from matplotlib) (0.11.0)\n",
      "Requirement already satisfied: fonttools>=4.22.0 in d:\\program_files\\anaconda\\envs\\llamaindex\\lib\\site-packages (from matplotlib) (4.55.3)\n",
      "Requirement already satisfied: kiwisolver>=1.3.1 in d:\\program_files\\anaconda\\envs\\llamaindex\\lib\\site-packages (from matplotlib) (1.4.8)\n",
      "Requirement already satisfied: pillow>=8 in d:\\program_files\\anaconda\\envs\\llamaindex\\lib\\site-packages (from matplotlib) (11.0.0)\n",
      "Requirement already satisfied: pyparsing>=2.3.1 in d:\\program_files\\anaconda\\envs\\llamaindex\\lib\\site-packages (from matplotlib) (3.2.1)\n",
      "Requirement already satisfied: python-dateutil>=2.7 in d:\\program_files\\anaconda\\envs\\llamaindex\\lib\\site-packages (from matplotlib) (2.9.0.post0)\n",
      "Requirement already satisfied: pytz>=2020.1 in d:\\program_files\\anaconda\\envs\\llamaindex\\lib\\site-packages (from pandas>=2.1->xarray) (2024.1)\n",
      "Requirement already satisfied: tzdata>=2022.7 in d:\\program_files\\anaconda\\envs\\llamaindex\\lib\\site-packages (from pandas>=2.1->xarray) (2023.3)\n",
      "Requirement already satisfied: six>=1.5 in d:\\program_files\\anaconda\\envs\\llamaindex\\lib\\site-packages (from python-dateutil>=2.7->matplotlib) (1.16.0)\n"
     ]
    }
   ],
   "source": [
    "!pip install xarray matplotlib\n"
   ]
  },
  {
   "cell_type": "code",
   "execution_count": 28,
   "id": "7bbb9ca2",
   "metadata": {},
   "outputs": [
    {
     "name": "stdout",
     "output_type": "stream",
     "text": [
      "Collecting imageio\n",
      "  Downloading imageio-2.37.0-py3-none-any.whl.metadata (5.2 kB)\n",
      "Requirement already satisfied: numpy in d:\\program_files\\anaconda\\envs\\llamaindex\\lib\\site-packages (from imageio) (2.0.0)\n",
      "Requirement already satisfied: pillow>=8.3.2 in d:\\program_files\\anaconda\\envs\\llamaindex\\lib\\site-packages (from imageio) (11.0.0)\n",
      "Downloading imageio-2.37.0-py3-none-any.whl (315 kB)\n",
      "Installing collected packages: imageio\n",
      "Successfully installed imageio-2.37.0\n"
     ]
    }
   ],
   "source": [
    "!pip install imageio"
   ]
  },
  {
   "cell_type": "code",
   "execution_count": null,
   "id": "c37d8ba1",
   "metadata": {},
   "outputs": [],
   "source": []
  }
 ],
 "metadata": {
  "kernelspec": {
   "display_name": "llamaIndex",
   "language": "python",
   "name": "python3"
  },
  "language_info": {
   "codemirror_mode": {
    "name": "ipython",
    "version": 3
   },
   "file_extension": ".py",
   "mimetype": "text/x-python",
   "name": "python",
   "nbconvert_exporter": "python",
   "pygments_lexer": "ipython3",
   "version": "3.12.8"
  }
 },
 "nbformat": 4,
 "nbformat_minor": 5
}
